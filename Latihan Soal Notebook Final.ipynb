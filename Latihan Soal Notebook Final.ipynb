{
 "cells": [
  {
   "cell_type": "markdown",
   "metadata": {},
   "source": [
    "1. Memahami pembuatan fungsi pencarian (find_index) dengan dua output ditambah output: \n",
    "    ditemmukan dan harus -1 jika tidak ditemukan\n",
    "Buatlah sebuah fungsi bernama find_index dalam Python yang menerima dua argumen:\n",
    "\n",
    "target: Sebuah nilai yang ingin dicari.\n",
    "data: Sebuah list (daftar) yang berisi elemen-elemen di mana pencarian akan dilakukan.\n",
    "Fungsi tersebut harus mengembalikan dua output:\n",
    "\n",
    "found: Nilai boolean (True jika elemen ditemukan, False jika tidak).\n",
    "index: Indeks elemen dalam list jika ditemukan, atau -1 jika elemen tidak ditem"
   ]
  },
  {
   "cell_type": "code",
   "execution_count": null,
   "metadata": {},
   "outputs": [
    {
     "name": "stdout",
     "output_type": "stream",
     "text": [
      "(True, 2)\n"
     ]
    }
   ],
   "source": [
    "def find_index(target, data):\n",
    "    #Periksa elemen dalam setiap list\n",
    "    for i, value in enumerate(data):\n",
    "        if value == target:\n",
    "            return True, i  #Elemen ditemukan, kembalikan True dan indeksnya\n",
    "    return False, -1    #Elemen tidak ditemukan, kemballikan False dan -1\n",
    "\n",
    "print(find_index(3, [1, 2, 3, 4, 5, 6]))"
   ]
  },
  {
   "cell_type": "markdown",
   "metadata": {},
   "source": [
    "2. Penggunaan loop (for/while)\n",
    "Soal 1: Penggunaan Loop for Buatlah sebuah program yang menggunakan loop for untuk mencetak semua bilangan genap dari 1 hingga 50 (termasuk 50). Output harus berupa daftar angka genap yang dipisahkan dengan koma.\n",
    "\n",
    "Soal 2: Penggunaan Loop while Buatlah sebuah program yang menggunakan loop while untuk mencetak hasil perkalian antara 7 dengan angka 1 sampai 10. Output harus berbentuk seperti berikut:\n",
    "7 x 1 = 7\n",
    "7 x 2 = 14\n",
    "7 x 3 = 21\n",
    "7 x 4 = 28\n",
    "7 x 5 = 35\n",
    "7 x 6 = 42\n",
    "7 x 7 = 49\n",
    "7 x 8 = 56\n",
    "7 x 9 = 63\n",
    "7 x 10 = 70\n",
    "\n",
    "Soal 3: Kombinasi Loop for dan while Buatlah sebuah program yang meminta pengguna untuk memasukkan angka. Program tersebut harus:\n",
    "Menggunakan loop while untuk meminta input hingga angka yang dimasukkan lebih besar dari 0.\n",
    "Menggunakan loop for untuk mencetak semua angka dari 1 hingga angka yang dimasukkan (termasuk angka tersebut)."
   ]
  },
  {
   "cell_type": "code",
   "execution_count": null,
   "metadata": {},
   "outputs": [
    {
     "name": "stdout",
     "output_type": "stream",
     "text": [
      "2,4,6,8,10,12,14,16,18,20,22,24,26,28,30,32,34,36,38,40,42,44,46,48,50\n"
     ]
    }
   ],
   "source": [
    "#Soal 1\n",
    "for i in range(2, 51, 2):\n",
    "    print(i, end = \",\" if i < 50 else\"\\n\")"
   ]
  },
  {
   "cell_type": "code",
   "execution_count": 2,
   "metadata": {},
   "outputs": [
    {
     "name": "stdout",
     "output_type": "stream",
     "text": [
      "7 x 1 = 7\n",
      "7 x 2 = 14\n",
      "7 x 3 = 21\n",
      "7 x 4 = 28\n",
      "7 x 5 = 35\n",
      "7 x 6 = 42\n",
      "7 x 7 = 49\n",
      "7 x 8 = 56\n",
      "7 x 9 = 63\n",
      "7 x 10 = 70\n"
     ]
    }
   ],
   "source": [
    "#Soal 2\n",
    "i = 1\n",
    "while i <= 10:\n",
    "    print(f\"7 x {i} = {7 * i}\")\n",
    "    i += 1"
   ]
  },
  {
   "cell_type": "code",
   "execution_count": 5,
   "metadata": {},
   "outputs": [
    {
     "name": "stdout",
     "output_type": "stream",
     "text": [
      "1\n",
      "2\n",
      "3\n",
      "4\n",
      "5\n"
     ]
    }
   ],
   "source": [
    "#Soal 3\n",
    "while True:\n",
    "    Angka = int(input( ))\n",
    "    if Angka > 0:\n",
    "        break\n",
    "\n",
    "for i in range(1, Angka + 1):\n",
    "    print(i)"
   ]
  },
  {
   "cell_type": "markdown",
   "metadata": {},
   "source": [
    "3. Memahami pembuatan fungsi untuk menghitung mean(rata-rata) median, range, max, dan min daridata \n",
    "Soal:\n",
    "Buatlah sebuah fungsi bernama calculate_statistics dalam Python yang menerima satu argumen, yaitu sebuah daftar bilangan (list) data. Fungsi ini harus mengembalikan sebuah dictionary yang berisi lima nilai berikut:\n",
    "\n",
    "Mean (Rata-rata): Rata-rata dari semua elemen dalam data.\n",
    "Median: Nilai tengah dari data setelah diurutkan. Jika jumlah elemen genap, ambil rata-rata dari dua elemen tengah.\n",
    "Range: Selisih antara nilai maksimum dan nilai minimum dalam data.\n",
    "Max: Nilai maksimum dalam data.\n",
    "Min: Nilai minimum dalam data."
   ]
  },
  {
   "cell_type": "code",
   "execution_count": 10,
   "metadata": {},
   "outputs": [
    {
     "name": "stdout",
     "output_type": "stream",
     "text": [
      "55.0\n"
     ]
    }
   ],
   "source": [
    "data1 = [10, 20, 30, 40, 50, 60, 70, 80, 90, 100]\n",
    "\n",
    "#Penetapan rumus\n",
    "def calculate_statistic(data):\n",
    "    if not data:\n",
    "        return \"Data tidak boleh kosong\"\n",
    "\n",
    "    #Mean\n",
    "    mean_value = sum(data) / len(data)\n",
    "   \n",
    "    #Median\n",
    "    median_value = sorted(data)\n",
    "    n = len(data)\n",
    "    if n // 2 == 1:\n",
    "        median = median_value[n // 2]\n",
    "\n",
    "print(calculate_statistic(data1))\n",
    "    \n",
    "\n"
   ]
  },
  {
   "cell_type": "markdown",
   "metadata": {},
   "source": [
    "4. Membuat pola bintang dua bagian, kombinasi nested loop (for) dengan logika untuk mencetak pola\n",
    "Soal: Membuat Pola Bintang Dua Bagian\n",
    "Buatlah program Python untuk mencetak pola bintang berbentuk dua bagian sebagai berikut:\n",
    "\n",
    "Bagian Atas:\n",
    "Pola segitiga bintang yang jumlah bintangnya meningkat dari 1 hingga n (di mana n adalah input pengguna).\n",
    "\n",
    "Bagian Bawah:\n",
    "Pola segitiga terbalik bintang yang jumlah bintangnya menurun dari n - 1 hingga 1."
   ]
  },
  {
   "cell_type": "code",
   "execution_count": 7,
   "metadata": {},
   "outputs": [
    {
     "name": "stdout",
     "output_type": "stream",
     "text": [
      "*\n",
      "**\n",
      "***\n",
      "****\n",
      "***\n",
      "**\n",
      "*\n"
     ]
    }
   ],
   "source": [
    "#Menetapkan nilai n\n",
    "n = int(input(\"Masukkan nilai (n): \"))\n",
    "\n",
    "#Pola atas\n",
    "for i in range(1, n + 1):\n",
    "    print(\"*\" * i)\n",
    "\n",
    "#Pola bawah\n",
    "for i in range(n - 1, 0, -1):\n",
    "    print(\"*\" * i)"
   ]
  },
  {
   "cell_type": "markdown",
   "metadata": {},
   "source": [
    "Soal: Cetak pola bintang segitiga siku-siku terbalik dengan tinggi n.\n",
    "Contoh Input dan Output:\n",
    "Input: n = 5\n",
    "Output:\n",
    "*****\n",
    "****\n",
    "***\n",
    "**\n",
    "*\n"
   ]
  },
  {
   "cell_type": "code",
   "execution_count": 14,
   "metadata": {},
   "outputs": [
    {
     "name": "stdout",
     "output_type": "stream",
     "text": [
      "*****\n",
      "****\n",
      "***\n",
      "**\n",
      "*\n"
     ]
    }
   ],
   "source": [
    "n = 5\n",
    "for i in range(n, 0, -1):\n",
    "    print(\"*\" * i)"
   ]
  },
  {
   "cell_type": "markdown",
   "metadata": {},
   "source": [
    "Soal: Cetak pola bintang berbentuk segitiga sama kaki dengan tinggi n.\n",
    "Contoh Input dan Output:\n",
    "Input: n = 5\n",
    "Output:\n",
    "    *\n",
    "   ***\n",
    "  *****\n",
    " *******\n",
    "*********\n"
   ]
  },
  {
   "cell_type": "code",
   "execution_count": 23,
   "metadata": {},
   "outputs": [
    {
     "name": "stdout",
     "output_type": "stream",
     "text": [
      "    *\n",
      "   ***\n",
      "  *****\n",
      " *******\n",
      "*********\n"
     ]
    }
   ],
   "source": [
    "n = int(input(\"Masukkan tinggi segitiga (n): \"))\n",
    "for i in range(1, n + 1):\n",
    "    print(\" \" * (n - i) + \"*\" * (2 * i - 1))\n"
   ]
  }
 ],
 "metadata": {
  "kernelspec": {
   "display_name": "Python 3",
   "language": "python",
   "name": "python3"
  },
  "language_info": {
   "codemirror_mode": {
    "name": "ipython",
    "version": 3
   },
   "file_extension": ".py",
   "mimetype": "text/x-python",
   "name": "python",
   "nbconvert_exporter": "python",
   "pygments_lexer": "ipython3",
   "version": "3.13.0"
  }
 },
 "nbformat": 4,
 "nbformat_minor": 2
}
